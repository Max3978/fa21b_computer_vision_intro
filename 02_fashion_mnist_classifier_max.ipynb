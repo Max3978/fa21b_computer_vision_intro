{
 "cells": [
  {
   "cell_type": "code",
   "execution_count": 1,
   "metadata": {
    "collapsed": false
   },
   "outputs": [],
   "source": [
    "path=\"fashion_data/\"\n",
    "\n",
    "import gzip\n",
    "import numpy as np\n",
    "import torch\n",
    "import pickle\n",
    "import matplotlib.pyplot as plt\n",
    "from torch import nn\n",
    "import numpy as np\n",
    "\n",
    "label_file=gzip.open(path + 'train-labels-idx1-ubyte.gz')\n",
    "y_train= np.frombuffer(label_file.read(), dtype=np.uint8, offset=8)\n",
    "\n",
    "image_file=gzip.open(path + 'train-images-idx3-ubyte.gz', 'rb')\n",
    "x_train= np.frombuffer(image_file.read(), dtype=np.uint8, offset=16).reshape(len(y_train), 784)\n",
    "\n",
    "valid_label_file=gzip.open(path + 't10k-labels-idx1-ubyte.gz')\n",
    "y_valid= np.frombuffer(valid_label_file.read(), dtype=np.uint8, offset=8)\n",
    "\n",
    "valid_image_file=gzip.open(path + 't10k-images-idx3-ubyte.gz', 'rb')\n",
    "x_valid= np.frombuffer(valid_image_file.read(), dtype=np.uint8, offset=16).reshape(len(y_valid), 784)"
   ]
  },
  {
   "cell_type": "code",
   "execution_count": 2,
   "metadata": {
    "collapsed": false
   },
   "outputs": [
    {
     "data": {
      "text/plain": [
       "<matplotlib.image.AxesImage at 0x7f0fcaf463b0>"
      ]
     },
     "execution_count": 2,
     "metadata": {},
     "output_type": "execute_result"
    },
    {
     "data": {
      "image/png": "[encoded data removed]",
      "text/plain": [
       "<Figure size 640x480 with 1 Axes>"
      ]
     },
     "metadata": {},
     "output_type": "display_data"
    }
   ],
   "source": [
    "import matplotlib.pyplot as plt\n",
    "\n",
    "plt.imshow(x_train[0].reshape(28, 28), cmap='gray')"
   ]
  },
  {
   "cell_type": "code",
   "execution_count": 3,
   "metadata": {
    "collapsed": false
   },
   "outputs": [
    {
     "data": {
      "text/plain": [
       "9"
      ]
     },
     "execution_count": 3,
     "metadata": {},
     "output_type": "execute_result"
    }
   ],
   "source": [
    "y_train[0]"
   ]
  },
  {
   "cell_type": "markdown",
   "metadata": {
    "collapsed": false
   },
   "source": [
    "Each training and test example is assigned to one of the following labels:\n",
    "\n",
    "- 0 T-shirt/top\n",
    "- 1\tTrouser\n",
    "- 2\tPullover\n",
    "- 3\tDress\n",
    "- 4\tCoat\n",
    "- 5\tSandal\n",
    "- 6\tShirt\n",
    "- 7\tSneaker\n",
    "- 8\tBag\n",
    "- 9\tAnkle boot"
   ]
  },
  {
   "cell_type": "code",
   "execution_count": 4,
   "metadata": {
    "collapsed": false
   },
   "outputs": [],
   "source": [
    "x_train = torch.tensor(x_train, dtype=torch.float)\n",
    "x_test = torch.tensor(x_valid, dtype=torch.float)\n",
    "y_train = torch.tensor(y_train, dtype=torch.long)\n",
    "y_test= torch.tensor(y_valid, dtype=torch.long)"
   ]
  },
  {
   "cell_type": "code",
   "execution_count": 5,
   "metadata": {},
   "outputs": [],
   "source": [
    "class MySimpleNN(torch.nn.Module):\n",
    "\n",
    "    def __init__(self):\n",
    "        super(MySimpleNN, self).__init__()\n",
    "\n",
    "        self.fc1 = torch.nn.Linear(784, 300)\n",
    "        self.fc2 = torch.nn.Linear(300, 100)\n",
    "        self.fc3 = torch.nn.Linear(100, 10)\n",
    "\n",
    "        self.bn1 = torch.nn.BatchNorm1d(300)\n",
    "        self.bn2 = torch.nn.BatchNorm1d(100)\n",
    "\n",
    "    def forward(self, xb):\n",
    "        z2 = self.fc1(xb)\n",
    "        a2 = torch.relu(z2)\n",
    "        a2_bn = self.bn1(a2)\n",
    "\n",
    "        z3 = self.fc2(a2_bn)\n",
    "        a3 = torch.relu(z3)\n",
    "        a3_bn = self.bn2(a3)\n",
    "\n",
    "        y_hat = self.fc3(a3_bn)\n",
    "\n",
    "        return y_hat"
   ]
  },
  {
   "cell_type": "code",
   "execution_count": 6,
   "metadata": {},
   "outputs": [],
   "source": [
    "def get_batch(x, y, batch_size):\n",
    "    for i in range(0, len(x), batch_size):\n",
    "        yield x[i:i+batch_size], y[i:i+batch_size]"
   ]
  },
  {
   "cell_type": "code",
   "execution_count": 7,
   "metadata": {},
   "outputs": [
    {
     "data": {
      "text/plain": [
       "torch.Size([64, 10])"
      ]
     },
     "execution_count": 7,
     "metadata": {},
     "output_type": "execute_result"
    }
   ],
   "source": [
    "model = MySimpleNN()\n",
    "xb, yb = next(get_batch(x_train, y_train, 64))\n",
    "model(xb).shape"
   ]
  },
  {
   "cell_type": "code",
   "execution_count": 8,
   "metadata": {},
   "outputs": [
    {
     "data": {
      "text/plain": [
       "[<matplotlib.lines.Line2D at 0x7f0fc8b90640>]"
      ]
     },
     "execution_count": 8,
     "metadata": {},
     "output_type": "execute_result"
    },
    {
     "data": {
      "image/png": "[encoded data removed]",
      "text/plain": [
       "<Figure size 640x480 with 1 Axes>"
      ]
     },
     "metadata": {},
     "output_type": "display_data"
    }
   ],
   "source": [
    "model = MySimpleNN()\n",
    "lr=0.0001\n",
    "\n",
    "batch_size=128\n",
    "\n",
    "loss_fn = nn.CrossEntropyLoss()\n",
    "\n",
    "def train(xb, yb):\n",
    "    y_hat=model(xb)\n",
    "    loss = loss_fn(y_hat, yb)\n",
    "    loss.backward()\n",
    "    with torch.no_grad():\n",
    "        for param in model.parameters():\n",
    "            param -= lr * param.grad\n",
    "        model.zero_grad()\n",
    "    return loss.item()\n",
    "\n",
    "losses = []\n",
    "batch_count=len(x_train)//batch_size\n",
    "\n",
    "for epoch in range(100):\n",
    "    loss_sum = 0\n",
    "\n",
    "    for xb, yb in get_batch(x_train, y_train, batch_size):\n",
    "        loss_sum += train(xb, yb)\n",
    "    losses.append(loss_sum/batch_count)\n",
    "\n",
    "plt.plot(losses)"
   ]
  },
  {
   "cell_type": "code",
   "execution_count": 9,
   "metadata": {},
   "outputs": [
    {
     "data": {
      "text/plain": [
       "torch.Size([64, 10])"
      ]
     },
     "execution_count": 9,
     "metadata": {},
     "output_type": "execute_result"
    }
   ],
   "source": [
    "xb_test, yb_test = next(get_batch(x_test, y_test, 64))\n",
    "preds = model(xb_test)\n",
    "preds.shape"
   ]
  },
  {
   "cell_type": "code",
   "execution_count": 10,
   "metadata": {},
   "outputs": [
    {
     "data": {
      "text/plain": [
       "tensor([-1.4767, -0.8050, -2.4055, -1.8607, -1.4755,  2.9744, -2.4426,  1.7735,\n",
       "        -1.1051,  4.3270], grad_fn=<SelectBackward0>)"
      ]
     },
     "execution_count": 10,
     "metadata": {},
     "output_type": "execute_result"
    }
   ],
   "source": [
    "preds[0]"
   ]
  },
  {
   "cell_type": "code",
   "execution_count": 11,
   "metadata": {},
   "outputs": [
    {
     "data": {
      "text/plain": [
       "tensor(9)"
      ]
     },
     "execution_count": 11,
     "metadata": {},
     "output_type": "execute_result"
    }
   ],
   "source": [
    "torch.argmax(preds[0])"
   ]
  },
  {
   "cell_type": "code",
   "execution_count": 12,
   "metadata": {},
   "outputs": [
    {
     "data": {
      "text/plain": [
       "tensor(9)"
      ]
     },
     "execution_count": 12,
     "metadata": {},
     "output_type": "execute_result"
    }
   ],
   "source": [
    "yb_test[0]"
   ]
  },
  {
   "cell_type": "code",
   "execution_count": 13,
   "metadata": {},
   "outputs": [],
   "source": [
    "preds = model(x_test)\n",
    "preds = torch.argmax(preds, dim=1)"
   ]
  },
  {
   "cell_type": "code",
   "execution_count": 14,
   "metadata": {},
   "outputs": [
    {
     "name": "stdout",
     "output_type": "stream",
     "text": [
      "8512 von  10000 korrekt vorhergesagt.\n"
     ]
    }
   ],
   "source": [
    "correct=0\n",
    "for i in range(len(preds)):\n",
    "    if preds[i] == y_valid[i]:\n",
    "        correct += 1\n",
    "\n",
    "print(correct, \"von \", len(x_valid), \"korrekt vorhergesagt.\")"
   ]
  },
  {
   "cell_type": "code",
   "execution_count": null,
   "metadata": {},
   "outputs": [],
   "source": []
  }
 ],
 "metadata": {
  "kernelspec": {
   "display_name": "Python 3",
   "language": "python",
   "name": "python3"
  },
  "language_info": {
   "codemirror_mode": {
    "name": "ipython",
    "version": 3
   },
   "file_extension": ".py",
   "mimetype": "text/x-python",
   "name": "python",
   "nbconvert_exporter": "python",
   "pygments_lexer": "ipython3",
   "version": "3.10.4"
  }
 },
 "nbformat": 4,
 "nbformat_minor": 0
}
